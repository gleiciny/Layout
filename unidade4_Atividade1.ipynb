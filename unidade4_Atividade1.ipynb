{
  "nbformat": 4,
  "nbformat_minor": 0,
  "metadata": {
    "colab": {
      "provenance": [],
      "authorship_tag": "ABX9TyNFT/tmexMXYOcPphTBfrFO",
      "include_colab_link": true
    },
    "kernelspec": {
      "name": "python3",
      "display_name": "Python 3"
    },
    "language_info": {
      "name": "python"
    }
  },
  "cells": [
    {
      "cell_type": "markdown",
      "metadata": {
        "id": "view-in-github",
        "colab_type": "text"
      },
      "source": [
        "<a href=\"https://colab.research.google.com/github/gleiciny/Layout/blob/main/unidade4_Atividade1.ipynb\" target=\"_parent\"><img src=\"https://colab.research.google.com/assets/colab-badge.svg\" alt=\"Open In Colab\"/></a>"
      ]
    },
    {
      "cell_type": "code",
      "execution_count": 9,
      "metadata": {
        "colab": {
          "base_uri": "https://localhost:8080/"
        },
        "id": "v2sHyCBxNZk9",
        "outputId": "7c92fc59-8050-4b96-dc81-b5925be18d11"
      },
      "outputs": [
        {
          "output_type": "stream",
          "name": "stdout",
          "text": [
            "Erro Quadrático Médio (MSE): 693904495.14\n",
            "    combustivel  idade_veiculo  quilometragem  Preço Real  Preço Previsto\n",
            "98     Gasolina           2010            117       64340    63341.711948\n",
            "67       Diesel           2020            230       42217    59592.654963\n",
            "105      Etanol           1994            227       53919    51328.953423\n",
            "19       Diesel           1998             80       99912    64778.469081\n",
            "42       Etanol           2005            200       78027    50921.103744\n"
          ]
        }
      ],
      "source": [
        "import numpy as np\n",
        "import pandas as pd\n",
        "from sklearn.compose import ColumnTransformer\n",
        "from sklearn.pipeline import Pipeline\n",
        "from sklearn.preprocessing import OneHotEncoder, StandardScaler\n",
        "from sklearn.linear_model import LinearRegression\n",
        "from sklearn.metrics import mean_squared_error\n",
        "from sklearn.model_selection import train_test_split\n",
        "\n",
        "# Gerando dados fictícios\n",
        "np.random.seed(42)\n",
        "num_samples = 135\n",
        "data = pd.DataFrame({\n",
        "    'combustivel': np.random.choice(['Gasolina', 'Diesel', 'Etanol'], num_samples),\n",
        "    'idade_veiculo': np.random.randint(1994, 2025, num_samples),\n",
        "    'quilometragem': np.random.randint(70, 255, num_samples),\n",
        "    'preco': np.random.randint(10000, 100000, num_samples)\n",
        "})\n",
        "\n",
        "# Dividindo os dados em conjunto de treino e teste\n",
        "X = data[['combustivel', 'idade_veiculo', 'quilometragem']]\n",
        "y = data['preco']\n",
        "X_train, X_test, y_train, y_test = train_test_split(X, y, test_size=0.3, random_state=42)\n",
        "\n",
        "# Criando o ColumnTransformer para aplicar transformações diferentes a cada tipo de dado\n",
        "preprocessor = ColumnTransformer(\n",
        "    transformers=[\n",
        "        ('num', StandardScaler(), ['idade_veiculo', 'quilometragem']),\n",
        "        ('cat', OneHotEncoder(), ['combustivel'])\n",
        "    ])\n",
        "\n",
        "# Criando o pipeline\n",
        "pipeline = Pipeline(steps=[\n",
        "    ('preprocessor', preprocessor),\n",
        "    ('regressor', LinearRegression())\n",
        "])\n",
        "\n",
        "# Treinando o modelo\n",
        "pipeline.fit(X_train, y_train)\n",
        "\n",
        "# Fazendo previsões no conjunto de teste\n",
        "y_pred = pipeline.predict(X_test)\n",
        "\n",
        "# Avaliando o modelo utilizando o erro quadrático médio (MSE)\n",
        "mse = mean_squared_error(y_test, y_pred)\n",
        "print(f'Erro Quadrático Médio (MSE): {mse:.2f}')\n",
        "\n",
        "# Exibindo os primeiros dados e previsões\n",
        "result_df = X_test.copy()\n",
        "result_df['Preço Real'] = y_test\n",
        "result_df['Preço Previsto'] = y_pred\n",
        "print(result_df.head())\n"
      ]
    }
  ]
}